{
 "cells": [
  {
   "cell_type": "code",
   "execution_count": null,
   "metadata": {},
   "outputs": [
    {
     "name": "stdout",
     "output_type": "stream",
     "text": [
      "Enter the word you want to speak it out by computer\n",
      "Hello world geeks for geeks\n",
      "Enter the word you want to speak it out by computer\n",
      "This is testing the text to speech application\n",
      "Enter the word you want to speak it out by computer\n"
     ]
    }
   ],
   "source": [
    "# Python program to convert \n",
    "# text to speech \n",
    "\n",
    "# import the required module from text to speech conversion \n",
    "import win32com.client\n",
    "\n",
    "# Calling the Disptach method of the module which  \n",
    "# interact with Microsoft Speech SDK to speak \n",
    "# the given input from the keyboard \n",
    "speaker = win32com.client.Dispatch(\"SAPI.SpVoice\")\n",
    "\n",
    "while 1:\n",
    "    print(\"Enter the word you want to speak it out by computer\")\n",
    "    s = input()\n",
    "    speaker.Speak(s)\n",
    "    \n",
    "# To stop the program press \n",
    "# CTRL + Z   "
   ]
  },
  {
   "cell_type": "code",
   "execution_count": null,
   "metadata": {},
   "outputs": [],
   "source": []
  }
 ],
 "metadata": {
  "kernelspec": {
   "display_name": "Python 3",
   "language": "python",
   "name": "python3"
  },
  "language_info": {
   "codemirror_mode": {
    "name": "ipython",
    "version": 3
   },
   "file_extension": ".py",
   "mimetype": "text/x-python",
   "name": "python",
   "nbconvert_exporter": "python",
   "pygments_lexer": "ipython3",
   "version": "3.6.7"
  }
 },
 "nbformat": 4,
 "nbformat_minor": 2
}
