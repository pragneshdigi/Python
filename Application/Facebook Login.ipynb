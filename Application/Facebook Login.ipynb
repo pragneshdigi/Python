{
 "cells": [
  {
   "cell_type": "code",
   "execution_count": null,
   "metadata": {},
   "outputs": [],
   "source": [
    "from selenium import webdriver\n",
    "from time import sleep\n",
    "\n",
    "usr = input('Enter email id:')\n",
    "pwd = input('Enter password:')\n",
    "\n",
    "driver = webdriver.Chrome()\n",
    "driver.get('https://www.facebook.com/')\n",
    "print(\"Opened facebook\")\n",
    "sleep(1)\n",
    "\n",
    "username_box = driver.find_element_by_id('email')\n",
    "username_box.send_keys(usr)\n",
    "print(\"Email id entered\")\n",
    "sleep(1)\n",
    "\n",
    "password_box = driver.find_element_by_id('email')\n",
    "password_box.send_keys(pwd)\n",
    "print(\"Password entered\")\n",
    "\n",
    "login_box = driver.find_element_by_id('loginbutton')\n",
    "login_box.click()\n",
    "\n",
    "print(\"Done\")\n",
    "input('Press anything to quit')\n",
    "driver.quit()\n",
    "print(\"Finished\")"
   ]
  },
  {
   "cell_type": "code",
   "execution_count": 2,
   "metadata": {},
   "outputs": [],
   "source": [
    "import time\n",
    "\n",
    "from selenium import webdriver\n",
    "import selenium.webdriver.chrome.service as service\n",
    "\n",
    "#service = service.Service('C:\\Users\\DIGI KUTIR\\Python Exercise\\Python Application\\path\\to\\chromedriver.exe')\n",
    "#service = service.Service('chromedriver')\n",
    "service = service.Service('C:/Users/DIGI KUTIR/Python Exercise/Python Application/path/to/chromedriver.exe')\n",
    "service.start()\n",
    "capabilities = {'chrome.binary': '/path/to/custom/chrome'}\n",
    "driver = webdriver.Remote(service.service_url, capabilities)\n",
    "driver.get('http://www.google.com/xhtml');\n",
    "time.sleep(5) # Let the user actually see something!\n",
    "driver.quit()"
   ]
  },
  {
   "cell_type": "code",
   "execution_count": null,
   "metadata": {},
   "outputs": [],
   "source": []
  }
 ],
 "metadata": {
  "kernelspec": {
   "display_name": "Python 3",
   "language": "python",
   "name": "python3"
  },
  "language_info": {
   "codemirror_mode": {
    "name": "ipython",
    "version": 3
   },
   "file_extension": ".py",
   "mimetype": "text/x-python",
   "name": "python",
   "nbconvert_exporter": "python",
   "pygments_lexer": "ipython3",
   "version": "3.6.7"
  }
 },
 "nbformat": 4,
 "nbformat_minor": 2
}
