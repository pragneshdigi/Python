{
 "cells": [
  {
   "cell_type": "code",
   "execution_count": 3,
   "metadata": {},
   "outputs": [
    {
     "name": "stdout",
     "output_type": "stream",
     "text": [
      "OTP of 4 digits:  3950\n"
     ]
    }
   ],
   "source": [
    "# import library\n",
    "import math, random\n",
    "\n",
    "# function to generate OTP\n",
    "def generateOTP():\n",
    "    \n",
    "    # Declare a digits variable   \n",
    "    # which stores all digits\n",
    "    digits = \"0123456789\"\n",
    "    OTP = \"\"\n",
    "    \n",
    "    # length of password can be chaged \n",
    "    # by changing value in range \n",
    "    for i in range(4):\n",
    "        OTP += digits[math.floor(random.random() * 10)]\n",
    "       \n",
    "    return OTP\n",
    "\n",
    "# Driver Code  \n",
    "if __name__ == \"__main__\":\n",
    "    print(\"OTP of 4 digits: \", generateOTP())"
   ]
  },
  {
   "cell_type": "code",
   "execution_count": 6,
   "metadata": {},
   "outputs": [
    {
     "name": "stdout",
     "output_type": "stream",
     "text": [
      "OTP of length 6:  WRwHFe\n"
     ]
    }
   ],
   "source": [
    "# import library\n",
    "import math, random\n",
    "\n",
    "# function to generate OTP\n",
    "def generateOTP():\n",
    "    \n",
    "    # Declare a string variable   \n",
    "    # which stores all string  \n",
    "    string = '0123456789abcdefghijklmnopqrstuvwxyzABCDEFGHIJKLMNOPQRSTUVWXYZ'\n",
    "    OTP = \"\"\n",
    "    length = len(string)\n",
    "    for i in range(6):\n",
    "        OTP += string[math.floor(random.random() * length)]\n",
    "        \n",
    "    return OTP\n",
    "\n",
    "# Driver Code  \n",
    "if __name__ == \"__main__\":\n",
    "    print(\"OTP of length 6: \", generateOTP())"
   ]
  },
  {
   "cell_type": "code",
   "execution_count": 12,
   "metadata": {},
   "outputs": [
    {
     "name": "stdout",
     "output_type": "stream",
     "text": [
      "rKCjvIoG1D\n"
     ]
    }
   ],
   "source": [
    "# Importing random to generate  \n",
    "# random string sequence  \n",
    "import random\n",
    "# Importing string library function\n",
    "import string\n",
    "\n",
    "def rand_pass(size):\n",
    "    \n",
    "    # Takes random choices from  \n",
    "    # ascii_letters and digits\n",
    "    generate_pass = ''.join([random.choice( string.ascii_uppercase + \n",
    "                                          string.ascii_lowercase +\n",
    "                                          string.digits)\n",
    "                            for n in range(size)])\n",
    "    return generate_pass\n",
    "  \n",
    "# Driver Code  \n",
    "password = rand_pass(10)\n",
    "print(password)"
   ]
  },
  {
   "cell_type": "code",
   "execution_count": null,
   "metadata": {},
   "outputs": [],
   "source": []
  }
 ],
 "metadata": {
  "kernelspec": {
   "display_name": "Python 3",
   "language": "python",
   "name": "python3"
  },
  "language_info": {
   "codemirror_mode": {
    "name": "ipython",
    "version": 3
   },
   "file_extension": ".py",
   "mimetype": "text/x-python",
   "name": "python",
   "nbconvert_exporter": "python",
   "pygments_lexer": "ipython3",
   "version": "3.6.7"
  }
 },
 "nbformat": 4,
 "nbformat_minor": 2
}
